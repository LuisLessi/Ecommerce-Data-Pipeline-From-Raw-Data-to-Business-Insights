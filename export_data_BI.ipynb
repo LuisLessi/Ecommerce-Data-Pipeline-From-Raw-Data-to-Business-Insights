{
 "cells": [
  {
   "cell_type": "code",
   "execution_count": 3,
   "id": "d46801b2-9d1a-43a3-bb71-4dac2535ae73",
   "metadata": {},
   "outputs": [
    {
     "name": "stdout",
     "output_type": "stream",
     "text": [
      "✅ Exportado: C:\\Users\\luisa\\projeto_engenharia_dados\\data\\processed\\raw_mart_agg_customer_sales.csv\n",
      "✅ Exportado: C:\\Users\\luisa\\projeto_engenharia_dados\\data\\processed\\raw_stg_customers.csv\n",
      "✅ Exportado: C:\\Users\\luisa\\projeto_engenharia_dados\\data\\processed\\raw_stg_orders.csv\n",
      "✅ Exportado: C:\\Users\\luisa\\projeto_engenharia_dados\\data\\processed\\raw_mart_customer_sales.csv\n"
     ]
    }
   ],
   "source": [
    "import duckdb\n",
    "from pathlib import Path\n",
    "\n",
    "# 1. Configuração de caminhos\n",
    "BASE_DIR = Path(\"C:/Users/luisa/projeto_engenharia_dados\")\n",
    "PROCESSED_DIR = BASE_DIR / \"data\" / \"processed\"\n",
    "DB_PATH = BASE_DIR / \"ecommerce.db\"\n",
    "\n",
    "# 2. Criar pasta 'processed' se não existir\n",
    "PROCESSED_DIR.mkdir(parents=True, exist_ok=True)\n",
    "\n",
    "# 3. Conectar ao DuckDB\n",
    "conn = duckdb.connect(str(DB_PATH))\n",
    "\n",
    "# 4. Lista de tabelas para exportar\n",
    "tabelas = [\n",
    "    \"raw.mart_agg_customer_sales\",\n",
    "    \"raw.stg_customers\", \n",
    "    \"raw.stg_orders\",\n",
    "    \"raw.mart_customer_sales\"\n",
    "]\n",
    "\n",
    "# 5. Exportar cada tabela\n",
    "for tabela in tabelas:\n",
    "    try:\n",
    "        df = conn.execute(f\"SELECT * FROM {tabela}\").fetchdf()\n",
    "        nome_arquivo = f\"{tabela.replace('.', '_')}.csv\"\n",
    "        output_path = PROCESSED_DIR / nome_arquivo\n",
    "        df.to_csv(output_path, index=False, encoding='utf-8')\n",
    "        print(f\"✅ Exportado: {output_path}\")\n",
    "    except Exception as e:\n",
    "        print(f\"❌ Erro em {tabela}: {str(e)}\")\n",
    "\n",
    "conn.close()"
   ]
  },
  {
   "cell_type": "code",
   "execution_count": null,
   "id": "21d09fcb-6daf-4630-9980-7c7c14e40929",
   "metadata": {},
   "outputs": [],
   "source": []
  }
 ],
 "metadata": {
  "kernelspec": {
   "display_name": "Python 3 (ipykernel)",
   "language": "python",
   "name": "python3"
  },
  "language_info": {
   "codemirror_mode": {
    "name": "ipython",
    "version": 3
   },
   "file_extension": ".py",
   "mimetype": "text/x-python",
   "name": "python",
   "nbconvert_exporter": "python",
   "pygments_lexer": "ipython3",
   "version": "3.12.0"
  }
 },
 "nbformat": 4,
 "nbformat_minor": 5
}
