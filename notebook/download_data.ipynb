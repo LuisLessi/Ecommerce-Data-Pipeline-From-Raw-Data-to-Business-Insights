{
 "cells": [
  {
   "cell_type": "code",
   "execution_count": 3,
   "id": "84cc09dc-97f0-421c-a89e-b3a1efcfc1df",
   "metadata": {},
   "outputs": [
    {
     "name": "stdout",
     "output_type": "stream",
     "text": [
      "Dataset URL: https://www.kaggle.com/datasets/olistbr/brazilian-ecommerce\n"
     ]
    }
   ],
   "source": [
    "import kaggle\n",
    "kaggle.api.dataset_download_files('olistbr/brazilian-ecommerce', path='../data', unzip=True)"
   ]
  },
  {
   "cell_type": "code",
   "execution_count": null,
   "id": "07ada071-2dbe-4425-9e03-4fec84aa58a9",
   "metadata": {},
   "outputs": [],
   "source": []
  }
 ],
 "metadata": {
  "kernelspec": {
   "display_name": "Python 3 (ipykernel)",
   "language": "python",
   "name": "python3"
  },
  "language_info": {
   "codemirror_mode": {
    "name": "ipython",
    "version": 3
   },
   "file_extension": ".py",
   "mimetype": "text/x-python",
   "name": "python",
   "nbconvert_exporter": "python",
   "pygments_lexer": "ipython3",
   "version": "3.12.0"
  }
 },
 "nbformat": 4,
 "nbformat_minor": 5
}
