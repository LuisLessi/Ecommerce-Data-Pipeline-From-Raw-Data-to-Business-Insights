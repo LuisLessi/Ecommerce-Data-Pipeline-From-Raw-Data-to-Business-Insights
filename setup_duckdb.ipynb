{
 "cells": [
  {
   "cell_type": "code",
   "execution_count": 8,
   "id": "0c31c0dc-cbbc-48de-9ae5-3f87c0ee2ab3",
   "metadata": {},
   "outputs": [
    {
     "name": "stdout",
     "output_type": "stream",
     "text": [
      "Table raw.olist_customers_dataset recreated with fresh data!\n"
     ]
    },
    {
     "data": {
      "application/vnd.jupyter.widget-view+json": {
       "model_id": "2f946224a2da4bde89b3e913d7c1bbd3",
       "version_major": 2,
       "version_minor": 0
      },
      "text/plain": [
       "FloatProgress(value=0.0, layout=Layout(width='auto'), style=ProgressStyle(bar_color='black'))"
      ]
     },
     "metadata": {},
     "output_type": "display_data"
    },
    {
     "name": "stdout",
     "output_type": "stream",
     "text": [
      "Table raw.olist_geolocation_dataset recreated with fresh data!\n",
      "Table raw.olist_orders_dataset recreated with fresh data!\n",
      "Table raw.olist_order_items_dataset recreated with fresh data!\n",
      "Table raw.olist_order_payments_dataset recreated with fresh data!\n",
      "\n",
      "Estrutura da tabela olist_order_payments_dataset:\n",
      "('order_id', 'VARCHAR', 'YES', None, None, None)\n",
      "('payment_sequential', 'BIGINT', 'YES', None, None, None)\n",
      "('payment_type', 'VARCHAR', 'YES', None, None, None)\n",
      "('payment_installments', 'BIGINT', 'YES', None, None, None)\n",
      "('payment_value', 'DOUBLE', 'YES', None, None, None)\n",
      "Table raw.olist_order_reviews_dataset recreated with fresh data!\n",
      "Table raw.olist_products_dataset recreated with fresh data!\n",
      "Table raw.olist_sellers_dataset recreated with fresh data!\n",
      "Table raw.product_category_name_translation recreated with fresh data!\n"
     ]
    }
   ],
   "source": [
    "# setup_duckdb.py modificado\n",
    "import duckdb\n",
    "import os\n",
    "\n",
    "# Connect to DuckDB\n",
    "conn = duckdb.connect(database='ecommerce.db')\n",
    "\n",
    "# Criar schema raw se não existir\n",
    "conn.execute(\"CREATE SCHEMA IF NOT EXISTS raw;\")\n",
    "\n",
    "# Load all CSVs\n",
    "for file in os.listdir('data'):\n",
    "    if file.endswith('.csv'):\n",
    "        table_name = file.split('.')[0]\n",
    "        conn.execute(f\"\"\"\n",
    "            CREATE TABLE raw.{table_name} AS\n",
    "            SELECT * FROM read_csv_auto('data/{file}')\n",
    "        \"\"\")\n",
    "        print(f'Table raw.{table_name} created!')\n",
    "conn.close()"
   ]
  },
  {
   "cell_type": "code",
   "execution_count": null,
   "id": "bfcd9be4-3f49-47d1-9f78-aceffd4ae80e",
   "metadata": {},
   "outputs": [],
   "source": []
  }
 ],
 "metadata": {
  "kernelspec": {
   "display_name": "Python 3 (ipykernel)",
   "language": "python",
   "name": "python3"
  },
  "language_info": {
   "codemirror_mode": {
    "name": "ipython",
    "version": 3
   },
   "file_extension": ".py",
   "mimetype": "text/x-python",
   "name": "python",
   "nbconvert_exporter": "python",
   "pygments_lexer": "ipython3",
   "version": "3.12.0"
  }
 },
 "nbformat": 4,
 "nbformat_minor": 5
}
